{
 "cells": [
  {
   "cell_type": "code",
   "execution_count": 45,
   "metadata": {},
   "outputs": [],
   "source": [
    "import hashlib\n",
    "import math\n",
    "from PIL import Image, ImageDraw\n",
    "from IPython.display import display"
   ]
  },
  {
   "cell_type": "code",
   "execution_count": 52,
   "metadata": {},
   "outputs": [
    {
     "name": "stdout",
     "output_type": "stream",
     "text": [
      "Input a string: randomyeast\n"
     ]
    },
    {
     "data": {
      "image/png": "[encoded data removed]",
      "text/plain": [
       "<PIL.Image.Image image mode=RGB size=500x500 at 0x1EEC9414CC8>"
      ]
     },
     "metadata": {},
     "output_type": "display_data"
    }
   ],
   "source": [
    "input_str = input(\"Input a string: \").encode(\"utf8\")\n",
    "#input_str = \"myteststring\".encode(\"utf8\")\n",
    "#print(f\"input string: {input_str}\")\n",
    "\n",
    "image_size = 10 # generated identicon size is image_size * square_size\n",
    "square_size = 50\n",
    "\n",
    "getMD5 = hashlib.md5()\n",
    "getMD5.update(input_str)\n",
    "hash1 = getMD5.hexdigest()\n",
    "getMD5.update(hash1.encode(\"utf8\"))\n",
    "hash2 = getMD5.hexdigest()\n",
    "#print(f\"string converted to md5 hash: {hash1}, {hash2}\")\n",
    "\n",
    "fgc = tuple([int(x, 16) for x in (hash1[0:2], hash1[2:4], hash1[4:6])])\n",
    "bgc = tuple([int(x, 16) for x in (hash2[-2:], hash2[-4:-2], hash2[-6:-4])])\n",
    "#print(f\"foreground color is: {fgc}, background color is: {bgc}\")\n",
    "\n",
    "identicon = Image.new('RGB', (image_size * square_size, image_size * square_size), bgc)\n",
    "draw = ImageDraw.Draw(identicon)\n",
    "short_hash = hash1[6:]+hash2[6:]\n",
    "hash_list = [int(x, 16) for x in short_hash]\n",
    "#print(f\"length of remaining hash is: {len(short_hash)}\")\n",
    "\n",
    "for x in range(int(image_size/2)):\n",
    "    for y in range(int(image_size)):\n",
    "        #index = int((image_size/2-x) * image_size + (image_size-y))-10\n",
    "        index = x * image_size + y+1\n",
    "        if hash_list[index] & 1:\n",
    "            #Draw the left side\n",
    "            draw.rectangle((x*square_size, y*square_size, (x+1)*square_size, (y+1)*square_size), fill=fgc, outline=fgc)\n",
    "            #Draw the mirror side\n",
    "            draw.rectangle(((image_size-x)*square_size, y*square_size, (image_size-(x+1))*square_size, (y+1)*square_size),fill=fgc, outline=fgc)\n",
    "\n",
    "#identicon.save(hash1+'.png', 'PNG')\n",
    "display(identicon)"
   ]
  },
  {
   "cell_type": "code",
   "execution_count": null,
   "metadata": {},
   "outputs": [],
   "source": []
  }
 ],
 "metadata": {
  "kernelspec": {
   "display_name": "Python 3",
   "language": "python",
   "name": "python3"
  },
  "language_info": {
   "codemirror_mode": {
    "name": "ipython",
    "version": 3
   },
   "file_extension": ".py",
   "mimetype": "text/x-python",
   "name": "python",
   "nbconvert_exporter": "python",
   "pygments_lexer": "ipython3",
   "version": "3.7.4"
  }
 },
 "nbformat": 4,
 "nbformat_minor": 4
}
